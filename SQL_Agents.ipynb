{
 "cells": [
  {
   "cell_type": "markdown",
   "metadata": {},
   "source": [
    "# WI-Projekt\n",
    "Nr. 18\n",
    "\n",
    "... <br>\n",
    "... <br>\n",
    "BA.WIN.22HS.VZa\n",
    "\n",
    "... <br>\n",
    "... <br>\n",
    "BA.WIN.22HS.VZb\n",
    "\n",
    "Pascal Kern <br>\n",
    "kernpas1@students.zhaw.ch <br>\n",
    "BA.WIN.22HS.VZa"
   ]
  },
  {
   "cell_type": "markdown",
   "metadata": {},
   "source": [
    "## Setup"
   ]
  },
  {
   "cell_type": "markdown",
   "metadata": {},
   "source": [
    "#### Get required Packages"
   ]
  },
  {
   "cell_type": "code",
   "execution_count": 1,
   "metadata": {},
   "outputs": [
    {
     "name": "stdout",
     "output_type": "stream",
     "text": [
      "The token has not been saved to the git credentials helper. Pass `add_to_git_credential=True` in this function directly or `--add-to-git-credential` if using via `huggingface-cli` if you want to set the git credential as well.\n",
      "Token is valid (permission: fineGrained).\n",
      "Your token has been saved to C:\\Users\\pasca\\.cache\\huggingface\\token\n",
      "Login successful\n"
     ]
    }
   ],
   "source": [
    "import json\n",
    "import os\n",
    "import boto3 # für Bedrock, funktioniert nicht\n",
    "\n",
    "from huggingface_hub import login # Für LLama\n",
    "from langchain_community.agent_toolkits import create_sql_agent\n",
    "from langchain.agents.agent_toolkits import SQLDatabaseToolkit\n",
    "from langchain.agents.agent_types import AgentType\n",
    "\n",
    "credentials = \"credentials.json\"\n",
    "\n",
    "with open(credentials, 'r') as f:\n",
    "    credentials = json.load(f)\n",
    "\n",
    "# API-Schlüssel setzen\n",
    "os.environ[\"OPENAI_API_KEY\"] = credentials['openai']['api_key'] # OpenAI\n",
    "os.environ[\"GEMINI_API_KEY\"] = credentials['gemini']['api_key'] # Gemini\n",
    "\n",
    "# aws Bedrock\n",
    "os.environ[\"AWS_ACCESS_KEY_ID\"] = credentials[\"awsBedrock\"][\"aws_access_key_id\"]\n",
    "os.environ[\"AWS_SECRET_ACCESS_KEY\"] = credentials[\"awsBedrock\"][\"aws_secret_access_key\"] \n",
    "region_name=credentials[\"awsBedrock\"]['region'] \n",
    "# Initialisiere den boto3 Client für Bedrock\n",
    "bedrock_client = boto3.client(\n",
    "    'bedrock-runtime',  \n",
    "    region_name=credentials[\"awsBedrock\"]['region']  # Region aus deinen credentials\n",
    ")\n",
    "\n",
    "# Huggingface llama\n",
    "huggingface_token = credentials['huggingface']['api_key']\n",
    "login(huggingface_token)"
   ]
  },
  {
   "cell_type": "markdown",
   "metadata": {},
   "source": [
    "#### Connect to DB"
   ]
  },
  {
   "cell_type": "code",
   "execution_count": 2,
   "metadata": {},
   "outputs": [
    {
     "name": "stdout",
     "output_type": "stream",
     "text": [
      "sqlite\n",
      "['Album', 'Artist', 'Customer', 'Employee', 'Genre', 'Invoice', 'InvoiceLine', 'MediaType', 'Playlist', 'PlaylistTrack', 'Track']\n"
     ]
    },
    {
     "data": {
      "text/plain": [
       "\"[(1, 'AC/DC'), (2, 'Accept'), (3, 'Aerosmith'), (4, 'Alanis Morissette'), (5, 'Alice In Chains'), (6, 'AntÃ´nio Carlos Jobim'), (7, 'Apocalyptica'), (8, 'Audioslave'), (9, 'BackBeat'), (10, 'Billy Cobham')]\""
      ]
     },
     "execution_count": 2,
     "metadata": {},
     "output_type": "execute_result"
    }
   ],
   "source": [
    "from langchain_community.utilities import SQLDatabase\n",
    "\n",
    "db = SQLDatabase.from_uri(\"sqlite:///Chinook.db\")\n",
    "print(db.dialect)\n",
    "print(db.get_usable_table_names())\n",
    "db.run(\"SELECT * FROM Artist LIMIT 10;\")"
   ]
  },
  {
   "cell_type": "markdown",
   "metadata": {},
   "source": [
    "### AWS Bedrock"
   ]
  },
  {
   "cell_type": "code",
   "execution_count": 3,
   "metadata": {},
   "outputs": [
    {
     "data": {
      "text/plain": [
       "'\\nfrom langchain.llms.base import LLM\\nfrom pydantic import BaseModel\\nfrom typing import Optional, List\\nimport json\\n\\nclass BedrockLLM(LLM, BaseModel):\\n    client: any  # Der Bedrock-Client (boto3)\\n    model_id: str  # Modell-ID des Bedrock-Modells\\n    region: str  # AWS-Region, in der das Bedrock-Modell gehostet wird\\n\\n    def _call(self, prompt: str, stop: Optional[List[str]] = None) -> str:\\n        # Bereite den Anfrage-Body vor\\n        body = {\\n            \"inputText\": prompt\\n        }\\n\\n        # Mache den API-Aufruf zum Bedrock-Modell\\n        response = self.client.invoke_model(\\n            modelId=self.model_id,\\n            contentType=\"application/json\",\\n            accept=\"application/json\",  # Ggf. anpassen\\n            body=json.dumps(body)  # Den Body in JSON-Format konvertieren\\n        )\\n\\n        # Debug-Ausgabe der Antwort hinzufügen\\n        print(\"Raw API response:\", response)\\n\\n        # Entpacke die Antwort und prüfe die Struktur\\n        result = json.loads(response[\\'body\\'].read())\\n        print(\"Decoded response:\", result)\\n\\n        # Sicherstellen, dass das richtige Feld für die Ausgabe verwendet wird\\n        if \\'outputText\\' in result:\\n            return result[\\'outputText\\']\\n        else:\\n            return f\"Fehler: Kein \\'outputText\\' gefunden, API-Antwort: {result}\"\\n\\n    @property\\n    def _llm_type(self) -> str:\\n        return \"aws-bedrock\"\\n'"
      ]
     },
     "execution_count": 3,
     "metadata": {},
     "output_type": "execute_result"
    }
   ],
   "source": [
    "'''\n",
    "from langchain.llms.base import LLM\n",
    "from pydantic import BaseModel\n",
    "from typing import Optional, List\n",
    "import json\n",
    "\n",
    "class BedrockLLM(LLM, BaseModel):\n",
    "    client: any  # Der Bedrock-Client (boto3)\n",
    "    model_id: str  # Modell-ID des Bedrock-Modells\n",
    "    region: str  # AWS-Region, in der das Bedrock-Modell gehostet wird\n",
    "\n",
    "    def _call(self, prompt: str, stop: Optional[List[str]] = None) -> str:\n",
    "        # Bereite den Anfrage-Body vor\n",
    "        body = {\n",
    "            \"inputText\": prompt\n",
    "        }\n",
    "\n",
    "        # Mache den API-Aufruf zum Bedrock-Modell\n",
    "        response = self.client.invoke_model(\n",
    "            modelId=self.model_id,\n",
    "            contentType=\"application/json\",\n",
    "            accept=\"application/json\",  # Ggf. anpassen\n",
    "            body=json.dumps(body)  # Den Body in JSON-Format konvertieren\n",
    "        )\n",
    "\n",
    "        # Debug-Ausgabe der Antwort hinzufügen\n",
    "        print(\"Raw API response:\", response)\n",
    "\n",
    "        # Entpacke die Antwort und prüfe die Struktur\n",
    "        result = json.loads(response['body'].read())\n",
    "        print(\"Decoded response:\", result)\n",
    "\n",
    "        # Sicherstellen, dass das richtige Feld für die Ausgabe verwendet wird\n",
    "        if 'outputText' in result:\n",
    "            return result['outputText']\n",
    "        else:\n",
    "            return f\"Fehler: Kein 'outputText' gefunden, API-Antwort: {result}\"\n",
    "\n",
    "    @property\n",
    "    def _llm_type(self) -> str:\n",
    "        return \"aws-bedrock\"\n",
    "'''\n"
   ]
  },
  {
   "cell_type": "code",
   "execution_count": 4,
   "metadata": {},
   "outputs": [
    {
     "data": {
      "text/plain": [
       "'\\n# Initialize the Bedrock LLM with the client and model information\\nllm = BedrockLLM(client=bedrock_client, model_id=\"amazon.titan-embed-text-v1\", region=region_name)\\n\\n# Now you can use this LLM in your LangChain pipeline\\nBedrock_agent = create_sql_agent(llm, db=db, agent_type=AgentType.ZERO_SHOT_REACT_DESCRIPTION, verbose=True, handle_parsing_errors=True)\\n'"
      ]
     },
     "execution_count": 4,
     "metadata": {},
     "output_type": "execute_result"
    }
   ],
   "source": [
    "'''\n",
    "# Initialize the Bedrock LLM with the client and model information\n",
    "llm = BedrockLLM(client=bedrock_client, model_id=\"amazon.titan-embed-text-v1\", region=region_name)\n",
    "\n",
    "# Now you can use this LLM in your LangChain pipeline\n",
    "Bedrock_agent = create_sql_agent(llm, db=db, agent_type=AgentType.ZERO_SHOT_REACT_DESCRIPTION, verbose=True, handle_parsing_errors=True)\n",
    "'''\n"
   ]
  },
  {
   "cell_type": "code",
   "execution_count": 5,
   "metadata": {},
   "outputs": [
    {
     "data": {
      "text/plain": [
       "'\\nBedrock_agent.invoke(\\n    \"Welcher Artist hat am meisten Albums?\"\\n)\\n'"
      ]
     },
     "execution_count": 5,
     "metadata": {},
     "output_type": "execute_result"
    }
   ],
   "source": [
    "'''\n",
    "Bedrock_agent.invoke(\n",
    "    \"Welcher Artist hat am meisten Albums?\"\n",
    ")\n",
    "'''"
   ]
  },
  {
   "cell_type": "markdown",
   "metadata": {},
   "source": [
    "### Agent OpenAI"
   ]
  },
  {
   "cell_type": "code",
   "execution_count": 6,
   "metadata": {},
   "outputs": [],
   "source": [
    "from langchain_openai import ChatOpenAI\n",
    "\n",
    "llm = ChatOpenAI(model=\"gpt-4o\", temperature=0) ## Which Large Language model are we using?\n",
    "toolkit = SQLDatabaseToolkit(llm=llm, db=db)\n",
    "\n",
    "OpenAI_agent = create_sql_agent(llm, toolkit=toolkit, agent_type=AgentType.ZERO_SHOT_REACT_DESCRIPTION, verbose=True) \n"
   ]
  },
  {
   "cell_type": "markdown",
   "metadata": {},
   "source": [
    "### Agent Google Gemini"
   ]
  },
  {
   "cell_type": "code",
   "execution_count": 7,
   "metadata": {},
   "outputs": [],
   "source": [
    "from langchain_google_genai import ChatGoogleGenerativeAI\n",
    "\n",
    "llm = ChatGoogleGenerativeAI(model='gemini-pro', temperature=0.7, api_key=os.getenv(\"GEMINI_API_KEY\")) ## mit temperatur 0.7 Gemini gives the same awnser like Openai when not using an agent type\n",
    "Gemini_agent = create_sql_agent(llm, db=db, agent_type=AgentType.ZERO_SHOT_REACT_DESCRIPTION, verbose=True) "
   ]
  },
  {
   "cell_type": "markdown",
   "metadata": {},
   "source": [
    "### Agent Meta LLaMA"
   ]
  },
  {
   "cell_type": "code",
   "execution_count": 8,
   "metadata": {},
   "outputs": [],
   "source": [
    "from transformers import pipeline\n",
    "from langchain_huggingface import HuggingFacePipeline\n",
    "\n",
    "# Load LLaMA model from Hugging Face\n",
    "model_id = \"meta-llama/Llama-3.2-1B\"  \n",
    "pipe = pipeline(\"text-generation\", model=model_id, max_new_tokens=100, max_length=100, num_return_sequences=1, temperature=0.7)\n",
    "\n",
    "# Create a LangChain-compatible LLM using the HuggingFacePipeline\n",
    "llm = HuggingFacePipeline(pipeline=pipe)\n",
    "LLaMA_agent = create_sql_agent(llm, db=db, verbose=True) "
   ]
  },
  {
   "cell_type": "markdown",
   "metadata": {},
   "source": [
    "### Execute"
   ]
  },
  {
   "cell_type": "code",
   "execution_count": 9,
   "metadata": {},
   "outputs": [
    {
     "name": "stdout",
     "output_type": "stream",
     "text": [
      "\n",
      "\n",
      "\u001b[1m> Entering new SQL Agent Executor chain...\u001b[0m\n",
      "\u001b[32;1m\u001b[1;3mAction: sql_db_list_tables\n",
      "Action Input: \"\"\u001b[0m\u001b[38;5;200m\u001b[1;3mAlbum, Artist, Customer, Employee, Genre, Invoice, InvoiceLine, MediaType, Playlist, PlaylistTrack, Track\u001b[0m\u001b[32;1m\u001b[1;3mTo determine which artist has the most albums, I should examine the \"Album\" and \"Artist\" tables. I will first check the schema of these tables to understand their structure and relationships.\n",
      "\n",
      "Action: sql_db_schema\n",
      "Action Input: \"Album, Artist\"\u001b[0m\u001b[33;1m\u001b[1;3m\n",
      "CREATE TABLE \"Album\" (\n",
      "\t\"AlbumId\" INTEGER NOT NULL, \n",
      "\t\"Title\" NVARCHAR(160) NOT NULL, \n",
      "\t\"ArtistId\" INTEGER NOT NULL, \n",
      "\tPRIMARY KEY (\"AlbumId\"), \n",
      "\tFOREIGN KEY(\"ArtistId\") REFERENCES \"Artist\" (\"ArtistId\")\n",
      ")\n",
      "\n",
      "/*\n",
      "3 rows from Album table:\n",
      "AlbumId\tTitle\tArtistId\n",
      "1\tFor Those About To Rock We Salute You\t1\n",
      "2\tBalls to the Wall\t2\n",
      "3\tRestless and Wild\t2\n",
      "*/\n",
      "\n",
      "\n",
      "CREATE TABLE \"Artist\" (\n",
      "\t\"ArtistId\" INTEGER NOT NULL, \n",
      "\t\"Name\" NVARCHAR(120), \n",
      "\tPRIMARY KEY (\"ArtistId\")\n",
      ")\n",
      "\n",
      "/*\n",
      "3 rows from Artist table:\n",
      "ArtistId\tName\n",
      "1\tAC/DC\n",
      "2\tAccept\n",
      "3\tAerosmith\n",
      "*/\u001b[0m\u001b[32;1m\u001b[1;3mTo find out which artist has the most albums, I need to count the number of albums for each artist and then identify the artist with the highest count. I will join the \"Album\" and \"Artist\" tables on the \"ArtistId\" and group the results by the artist's name.\n",
      "\n",
      "Action: sql_db_query_checker\n",
      "Action Input: \"SELECT Artist.Name, COUNT(Album.AlbumId) AS AlbumCount FROM Album JOIN Artist ON Album.ArtistId = Artist.ArtistId GROUP BY Artist.Name ORDER BY AlbumCount DESC LIMIT 1;\"\u001b[0m\u001b[36;1m\u001b[1;3m```sql\n",
      "SELECT Artist.Name, COUNT(Album.AlbumId) AS AlbumCount FROM Album JOIN Artist ON Album.ArtistId = Artist.ArtistId GROUP BY Artist.Name ORDER BY AlbumCount DESC LIMIT 1;\n",
      "```\u001b[0m\u001b[32;1m\u001b[1;3mThe query is correct, and I can now execute it to find out which artist has the most albums.\n",
      "\n",
      "Action: sql_db_query\n",
      "Action Input: \"SELECT Artist.Name, COUNT(Album.AlbumId) AS AlbumCount FROM Album JOIN Artist ON Album.ArtistId = Artist.ArtistId GROUP BY Artist.Name ORDER BY AlbumCount DESC LIMIT 1;\"\u001b[0m\u001b[36;1m\u001b[1;3m[('Iron Maiden', 21)]\u001b[0m\u001b[32;1m\u001b[1;3mI now know the final answer.\n",
      "\n",
      "Final Answer: The artist with the most albums is Iron Maiden, with 21 albums.\u001b[0m\n",
      "\n",
      "\u001b[1m> Finished chain.\u001b[0m\n"
     ]
    },
    {
     "data": {
      "text/plain": [
       "{'input': 'Welcher Artist hat am meisten Albums?',\n",
       " 'output': 'The artist with the most albums is Iron Maiden, with 21 albums.'}"
      ]
     },
     "execution_count": 9,
     "metadata": {},
     "output_type": "execute_result"
    }
   ],
   "source": [
    "OpenAI_agent.invoke(\n",
    "    \"Welcher Artist hat am meisten Albums?\"\n",
    ")"
   ]
  },
  {
   "cell_type": "code",
   "execution_count": 10,
   "metadata": {},
   "outputs": [
    {
     "name": "stdout",
     "output_type": "stream",
     "text": [
      "\n",
      "\n",
      "\u001b[1m> Entering new SQL Agent Executor chain...\u001b[0m\n",
      "\u001b[32;1m\u001b[1;3mAction: sql_db_list_tables\n",
      "Action Input: \u001b[0m\u001b[38;5;200m\u001b[1;3mAlbum, Artist, Customer, Employee, Genre, Invoice, InvoiceLine, MediaType, Playlist, PlaylistTrack, Track\u001b[0m\u001b[32;1m\u001b[1;3mI should query the schema of the Artist and Album tables.\n",
      "Action: sql_db_schema\n",
      "Action Input: Album, Artist\u001b[0m\u001b[33;1m\u001b[1;3m\n",
      "CREATE TABLE \"Album\" (\n",
      "\t\"AlbumId\" INTEGER NOT NULL, \n",
      "\t\"Title\" NVARCHAR(160) NOT NULL, \n",
      "\t\"ArtistId\" INTEGER NOT NULL, \n",
      "\tPRIMARY KEY (\"AlbumId\"), \n",
      "\tFOREIGN KEY(\"ArtistId\") REFERENCES \"Artist\" (\"ArtistId\")\n",
      ")\n",
      "\n",
      "/*\n",
      "3 rows from Album table:\n",
      "AlbumId\tTitle\tArtistId\n",
      "1\tFor Those About To Rock We Salute You\t1\n",
      "2\tBalls to the Wall\t2\n",
      "3\tRestless and Wild\t2\n",
      "*/\n",
      "\n",
      "\n",
      "CREATE TABLE \"Artist\" (\n",
      "\t\"ArtistId\" INTEGER NOT NULL, \n",
      "\t\"Name\" NVARCHAR(120), \n",
      "\tPRIMARY KEY (\"ArtistId\")\n",
      ")\n",
      "\n",
      "/*\n",
      "3 rows from Artist table:\n",
      "ArtistId\tName\n",
      "1\tAC/DC\n",
      "2\tAccept\n",
      "3\tAerosmith\n",
      "*/\u001b[0m\u001b[32;1m\u001b[1;3mI should find the total number of albums for each artist, order by count descending, and get the artist with the highest count.\n",
      "Action: sql_db_query\n",
      "Action Input: SELECT Artist.Name, Count(Album.AlbumId) AS AlbumCount FROM Artist JOIN Album ON Artist.ArtistId = Album.ArtistId GROUP BY Artist.Name ORDER BY AlbumCount DESC LIMIT 10;\u001b[0m\u001b[36;1m\u001b[1;3m[('Iron Maiden', 21), ('Led Zeppelin', 14), ('Deep Purple', 11), ('U2', 10), ('Metallica', 10), ('Ozzy Osbourne', 6), ('Pearl Jam', 5), ('Various Artists', 4), ('Van Halen', 4), ('Lost', 4)]\u001b[0m\u001b[32;1m\u001b[1;3mFinal Answer: Iron Maiden\u001b[0m\n",
      "\n",
      "\u001b[1m> Finished chain.\u001b[0m\n"
     ]
    },
    {
     "data": {
      "text/plain": [
       "{'input': 'Welcher Artist hat am meisten Albums?', 'output': 'Iron Maiden'}"
      ]
     },
     "execution_count": 10,
     "metadata": {},
     "output_type": "execute_result"
    }
   ],
   "source": [
    "Gemini_agent.invoke(\n",
    "    \"Welcher Artist hat am meisten Albums?\"\n",
    ")"
   ]
  },
  {
   "cell_type": "code",
   "execution_count": 11,
   "metadata": {},
   "outputs": [
    {
     "data": {
      "text/plain": [
       "'\\nLLaMA_agent.invoke(\\n    \"Welcher Artist hat am meisten Albums?\"\\n)\\n'"
      ]
     },
     "execution_count": 11,
     "metadata": {},
     "output_type": "execute_result"
    }
   ],
   "source": [
    "'''\n",
    "LLaMA_agent.invoke(\n",
    "    \"Welcher Artist hat am meisten Albums?\"\n",
    ")\n",
    "'''"
   ]
  }
 ],
 "metadata": {
  "kernelspec": {
   "display_name": "Python 3",
   "language": "python",
   "name": "python3"
  },
  "language_info": {
   "codemirror_mode": {
    "name": "ipython",
    "version": 3
   },
   "file_extension": ".py",
   "mimetype": "text/x-python",
   "name": "python",
   "nbconvert_exporter": "python",
   "pygments_lexer": "ipython3",
   "version": "3.11.9"
  }
 },
 "nbformat": 4,
 "nbformat_minor": 2
}
