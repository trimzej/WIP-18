{
 "cells": [
  {
   "cell_type": "markdown",
   "metadata": {},
   "source": [
    "# WI-Projekt\n",
    "Nr. 18\n",
    "\n",
    "... <br>\n",
    "... <br>\n",
    "BA.WIN.22HS.VZa\n",
    "\n",
    "... <br>\n",
    "... <br>\n",
    "BA.WIN.22HS.VZb\n",
    "\n",
    "Pascal Kern <br>\n",
    "kernpas1@students.zhaw.ch <br>\n",
    "BA.WIN.22HS.VZa"
   ]
  },
  {
   "cell_type": "markdown",
   "metadata": {},
   "source": [
    "## Setup"
   ]
  },
  {
   "cell_type": "markdown",
   "metadata": {},
   "source": [
    "#### Get required Packages"
   ]
  },
  {
   "cell_type": "code",
   "execution_count": 1,
   "metadata": {},
   "outputs": [],
   "source": [
    "import json\n",
    "import os\n",
    "\n",
    "from langchain_community.agent_toolkits import create_sql_agent\n",
    "from langchain.agents.agent_toolkits import SQLDatabaseToolkit\n",
    "from langchain.agents.agent_types import AgentType\n",
    "\n",
    "credentials = \"credentials.json\"\n",
    "\n",
    "with open(credentials, 'r') as f:\n",
    "    credentials = json.load(f)\n",
    "\n",
    "# API-Schlüssel setzen\n",
    "os.environ[\"OPENAI_API_KEY\"] = credentials['openai']['api_key'] # OpenAI"
   ]
  },
  {
   "cell_type": "markdown",
   "metadata": {},
   "source": [
    "#### Connect to DB"
   ]
  },
  {
   "cell_type": "code",
   "execution_count": 4,
   "metadata": {},
   "outputs": [
    {
     "name": "stdout",
     "output_type": "stream",
     "text": [
      "sqlite\n",
      "['cars', 'customers', 'mechanics', 'sales', 'salespersons', 'servicerecords']\n"
     ]
    },
    {
     "data": {
      "text/plain": [
       "\"[(0, 'C7ZGWFLBUV', 'Toyota', 'Camry', 2019, 'A15 0LX', 21684.48, 'In Maintenance'), (1, 'C875HZ1AG6', 'Ford', 'Mustang', 2021, '435N', 48209.3, 'Sold'), (2, 'CDONEWSWFP', 'Honda', 'Civic', 2021, 'QBA-572', 25172.63, 'In Maintenance'), (3, 'C2UQZP803C', 'BMW', '320i', 2023, '5-92778W', 49999.41, 'In Maintenance'), (4, 'C2WFIK6WEP', 'Chevrolet', 'Malibu', 2020, '300 VLT', 36272.28, 'Sold'), (5, 'CGPCXD8911', 'Honda', 'Accord', 2023, 'TQJ 796', 46933.2, 'Sold'), (6, 'C4RQCO25I9', 'BMW', '320i', 2021, 'HPN 414', 24292.38, 'Available'), (7, 'C9LPTOS9KE', 'Mercedes', 'E-Class', 2021, '241 RAU', 49537.05, 'Available'), (8, 'C3U71M5BP5', 'Honda', 'Accord', 2020, '97-P320', 46892.88, 'Sold'), (9, 'CCKUBGF8P9', 'BMW', 'X5', 2023, 'JCC 664', 49575.53, 'In Maintenance')]\""
      ]
     },
     "execution_count": 4,
     "metadata": {},
     "output_type": "execute_result"
    }
   ],
   "source": [
    "from langchain_community.utilities import SQLDatabase\n",
    "\n",
    "#db = SQLDatabase.from_uri(\"sqlite:///DB\\Chinook.db\")\n",
    "db = SQLDatabase.from_uri(\"sqlite:///DB\\CarDealer.db\")\n",
    "\n",
    "print(db.dialect)\n",
    "print(db.get_usable_table_names())\n",
    "\n",
    "#db.run(\"SELECT * FROM Artist LIMIT 10;\") # Chinook\n",
    "db.run(\"SELECT * FROM cars LIMIT 10;\") #Car dealer"
   ]
  },
  {
   "cell_type": "markdown",
   "metadata": {},
   "source": [
    "### Setup Dynamic few-shot-prompt (vektorDB)"
   ]
  },
  {
   "cell_type": "markdown",
   "metadata": {},
   "source": [
    "#### Load Examples"
   ]
  },
  {
   "cell_type": "code",
   "execution_count": null,
   "metadata": {},
   "outputs": [],
   "source": [
    "# Laden der Beispiele aus der seperaten Datei\n",
    "with open('Dynamic few-shot-prompts/few-shot-prompts.json', 'r') as f:\n",
    "    examples = json.load(f)\n"
   ]
  },
  {
   "cell_type": "markdown",
   "metadata": {},
   "source": [
    "#### Search based on semantic similarity"
   ]
  },
  {
   "cell_type": "code",
   "execution_count": null,
   "metadata": {},
   "outputs": [],
   "source": [
    "from langchain_community.vectorstores import FAISS\n",
    "from langchain_core.example_selectors import SemanticSimilarityExampleSelector\n",
    "from langchain_openai import OpenAIEmbeddings\n",
    "\n",
    "# Auswählen passender Prompt-Beispiele\n",
    "example_selector = SemanticSimilarityExampleSelector.from_examples(\n",
    "    examples,\n",
    "    OpenAIEmbeddings(),\n",
    "    FAISS,\n",
    "    k=5,\n",
    "    input_keys=[\"input\"],\n",
    ")"
   ]
  },
  {
   "cell_type": "markdown",
   "metadata": {},
   "source": [
    "#### Create FewShotPromptTemplate"
   ]
  },
  {
   "cell_type": "code",
   "execution_count": null,
   "metadata": {},
   "outputs": [],
   "source": [
    "from langchain_core.prompts import (\n",
    "    ChatPromptTemplate,\n",
    "    FewShotPromptTemplate,\n",
    "    MessagesPlaceholder,\n",
    "    PromptTemplate,\n",
    "    SystemMessagePromptTemplate,\n",
    ")\n",
    "\n",
    "# Laden des template_prefix aus einer Textdatei\n",
    "with open('Dynamic few-shot-prompts/template_prefix.txt', 'r') as f:\n",
    "    system_prefix = f.read()\n",
    "\n",
    "few_shot_prompt = FewShotPromptTemplate(\n",
    "    example_selector=example_selector,\n",
    "    example_prompt=PromptTemplate.from_template(\n",
    "        \"User input: {input}\\nSQL query: {query}\"\n",
    "    ),\n",
    "    input_variables=[\"input\", \"dialect\", \"top_k\"],\n",
    "    prefix=system_prefix, \n",
    "    suffix=\"\",\n",
    ")\n"
   ]
  },
  {
   "cell_type": "markdown",
   "metadata": {},
   "source": [
    "#### Create full prompt"
   ]
  },
  {
   "cell_type": "code",
   "execution_count": null,
   "metadata": {},
   "outputs": [],
   "source": [
    "full_prompt = ChatPromptTemplate.from_messages(\n",
    "    [\n",
    "        SystemMessagePromptTemplate(prompt=few_shot_prompt),\n",
    "        (\"human\", \"{input}\"),\n",
    "        MessagesPlaceholder(\"agent_scratchpad\"),\n",
    "    ]\n",
    ")"
   ]
  },
  {
   "cell_type": "code",
   "execution_count": null,
   "metadata": {},
   "outputs": [
    {
     "name": "stdout",
     "output_type": "stream",
     "text": [
      "System: You are an agent designed to interact with a SQL database.\n",
      "Given an input question, create a syntactically correct SQLite query to run, then look at the results of the query and return the answer.\n",
      "Unless the user specifies a specific number of examples they wish to obtain, always limit your query to at most 5 results.\n",
      "You can order the results by a relevant column to return the most interesting examples in the database.\n",
      "Never query for all the columns from a specific table, only ask for the relevant columns given the question.\n",
      "You have access to tools for interacting with the database.\n",
      "Only use the given tools. Only use the information returned by the tools to construct your final answer.\n",
      "You MUST double check your query before executing it. If you get an error while executing a query, rewrite the query and try again.\n",
      "\n",
      "DO NOT make any DML statements (INSERT, UPDATE, DELETE, DROP etc.) to the database.\n",
      "\n",
      "If the question does not seem related to the database, just return \"I don't know\" as the answer.\n",
      "\n",
      "Here are some examples of user inputs and their corresponding SQL queries:\n",
      "\n",
      "\n",
      "User input: Finde die Gesamtdauer aller Titel.\n",
      "SQL query: SELECT SUM(Milliseconds) FROM Track;\n",
      "\n",
      "User input: Finde die Gesamtanzahl der Rechnungen.\n",
      "SQL query: SELECT COUNT(*) FROM Invoice;\n",
      "\n",
      "User input: Wie viele Titel gibt es im Album mit der ID 5?\n",
      "SQL query: SELECT COUNT(*) FROM Track WHERE AlbumId = 5;\n",
      "\n",
      "User input: Finde alle Alben des KÃ¼nstlers 'AC/DC'.\n",
      "SQL query: SELECT * FROM Album WHERE ArtistId = (SELECT ArtistId FROM Artist WHERE Name = 'AC/DC');\n",
      "\n",
      "User input: Liste alle Titel im Genre 'Rock' auf.\n",
      "SQL query: SELECT * FROM Track WHERE GenreId = (SELECT GenreId FROM Genre WHERE Name = 'Rock');\n",
      "Human: Gib mir den Namen des Albums, mit den höchsten Gesamteinnahmen aus Track-Verkäufen, sowie die summierten Einnahmen dieser Tracks und die Anzahl verkaufter Tracks des Albums, basierend auf dem durchschnittlichen Einzelpreis der Tracks.\n"
     ]
    }
   ],
   "source": [
    "# Preview\n",
    "prompt_val = full_prompt.invoke(\n",
    "    {\n",
    "        \"input\": \"Gib mir den Namen des Albums, mit den höchsten Gesamteinnahmen aus Track-Verkäufen, sowie die summierten Einnahmen dieser Tracks und die Anzahl verkaufter Tracks des Albums, basierend auf dem durchschnittlichen Einzelpreis der Tracks.\",\n",
    "        \"top_k\": 5,\n",
    "        \"dialect\": \"SQLite\",\n",
    "        \"agent_scratchpad\": [],\n",
    "    }\n",
    ")\n",
    "print(prompt_val.to_string())"
   ]
  },
  {
   "cell_type": "markdown",
   "metadata": {},
   "source": [
    "### Agent OpenAI"
   ]
  },
  {
   "cell_type": "code",
   "execution_count": null,
   "metadata": {},
   "outputs": [],
   "source": [
    "from langchain_openai import ChatOpenAI\n",
    "\n",
    "llm = ChatOpenAI(model=\"gpt-4o\", temperature=0) ## Which Large Language model are we using?\n",
    "\n",
    "OpenAI_agent = create_sql_agent(\n",
    "    llm, \n",
    "    toolkit= SQLDatabaseToolkit(llm=llm, db=db), \n",
    "    prompt=full_prompt,\n",
    "    agent_type='tool-calling', \n",
    "    top_k=50,\n",
    "    temperature=0,\n",
    "    verbose=True) \n"
   ]
  },
  {
   "cell_type": "markdown",
   "metadata": {},
   "source": [
    "### Execute"
   ]
  },
  {
   "cell_type": "code",
   "execution_count": null,
   "metadata": {},
   "outputs": [
    {
     "name": "stdout",
     "output_type": "stream",
     "text": [
      "\n",
      "\n",
      "\u001b[1m> Entering new SQL Agent Executor chain...\u001b[0m\n",
      "\u001b[32;1m\u001b[1;3m\n",
      "Invoking: `sql_db_list_tables` with `{}`\n",
      "\n",
      "\n",
      "\u001b[0m\u001b[38;5;200m\u001b[1;3mAlbum, Artist, Customer, Employee, Genre, Invoice, InvoiceLine, MediaType, Playlist, PlaylistTrack, Track\u001b[0m\u001b[32;1m\u001b[1;3m\n",
      "Invoking: `sql_db_schema` with `{'table_names': 'Customer, Genre, Invoice, InvoiceLine, Track'}`\n",
      "\n",
      "\n",
      "\u001b[0m\u001b[33;1m\u001b[1;3m\n",
      "CREATE TABLE \"Customer\" (\n",
      "\t\"CustomerId\" INTEGER NOT NULL, \n",
      "\t\"FirstName\" NVARCHAR(40) NOT NULL, \n",
      "\t\"LastName\" NVARCHAR(20) NOT NULL, \n",
      "\t\"Company\" NVARCHAR(80), \n",
      "\t\"Address\" NVARCHAR(70), \n",
      "\t\"City\" NVARCHAR(40), \n",
      "\t\"State\" NVARCHAR(40), \n",
      "\t\"Country\" NVARCHAR(40), \n",
      "\t\"PostalCode\" NVARCHAR(10), \n",
      "\t\"Phone\" NVARCHAR(24), \n",
      "\t\"Fax\" NVARCHAR(24), \n",
      "\t\"Email\" NVARCHAR(60) NOT NULL, \n",
      "\t\"SupportRepId\" INTEGER, \n",
      "\tPRIMARY KEY (\"CustomerId\"), \n",
      "\tFOREIGN KEY(\"SupportRepId\") REFERENCES \"Employee\" (\"EmployeeId\")\n",
      ")\n",
      "\n",
      "/*\n",
      "3 rows from Customer table:\n",
      "CustomerId\tFirstName\tLastName\tCompany\tAddress\tCity\tState\tCountry\tPostalCode\tPhone\tFax\tEmail\tSupportRepId\n",
      "1\tLuÃ­s\tGonÃ§alves\tEmbraer - Empresa Brasileira de AeronÃ¡utica S.A.\tAv. Brigadeiro Faria Lima, 2170\tSÃ£o JosÃ© dos Campos\tSP\tBrazil\t12227-000\t+55 (12) 3923-5555\t+55 (12) 3923-5566\tluisg@embraer.com.br\t3\n",
      "2\tLeonie\tKÃ¶hler\tNone\tTheodor-Heuss-StraÃŸe 34\tStuttgart\tNone\tGermany\t70174\t+49 0711 2842222\tNone\tleonekohler@surfeu.de\t5\n",
      "3\tFranÃ§ois\tTremblay\tNone\t1498 rue BÃ©langer\tMontrÃ©al\tQC\tCanada\tH2G 1A7\t+1 (514) 721-4711\tNone\tftremblay@gmail.com\t3\n",
      "*/\n",
      "\n",
      "\n",
      "CREATE TABLE \"Genre\" (\n",
      "\t\"GenreId\" INTEGER NOT NULL, \n",
      "\t\"Name\" NVARCHAR(120), \n",
      "\tPRIMARY KEY (\"GenreId\")\n",
      ")\n",
      "\n",
      "/*\n",
      "3 rows from Genre table:\n",
      "GenreId\tName\n",
      "1\tRock\n",
      "2\tJazz\n",
      "3\tMetal\n",
      "*/\n",
      "\n",
      "\n",
      "CREATE TABLE \"Invoice\" (\n",
      "\t\"InvoiceId\" INTEGER NOT NULL, \n",
      "\t\"CustomerId\" INTEGER NOT NULL, \n",
      "\t\"InvoiceDate\" DATETIME NOT NULL, \n",
      "\t\"BillingAddress\" NVARCHAR(70), \n",
      "\t\"BillingCity\" NVARCHAR(40), \n",
      "\t\"BillingState\" NVARCHAR(40), \n",
      "\t\"BillingCountry\" NVARCHAR(40), \n",
      "\t\"BillingPostalCode\" NVARCHAR(10), \n",
      "\t\"Total\" NUMERIC(10, 2) NOT NULL, \n",
      "\tPRIMARY KEY (\"InvoiceId\"), \n",
      "\tFOREIGN KEY(\"CustomerId\") REFERENCES \"Customer\" (\"CustomerId\")\n",
      ")\n",
      "\n",
      "/*\n",
      "3 rows from Invoice table:\n",
      "InvoiceId\tCustomerId\tInvoiceDate\tBillingAddress\tBillingCity\tBillingState\tBillingCountry\tBillingPostalCode\tTotal\n",
      "1\t2\t2021-01-01 00:00:00\tTheodor-Heuss-StraÃŸe 34\tStuttgart\tNone\tGermany\t70174\t1.98\n",
      "2\t4\t2021-01-02 00:00:00\tUllevÃ¥lsveien 14\tOslo\tNone\tNorway\t0171\t3.96\n",
      "3\t8\t2021-01-03 00:00:00\tGrÃ©trystraat 63\tBrussels\tNone\tBelgium\t1000\t5.94\n",
      "*/\n",
      "\n",
      "\n",
      "CREATE TABLE \"InvoiceLine\" (\n",
      "\t\"InvoiceLineId\" INTEGER NOT NULL, \n",
      "\t\"InvoiceId\" INTEGER NOT NULL, \n",
      "\t\"TrackId\" INTEGER NOT NULL, \n",
      "\t\"UnitPrice\" NUMERIC(10, 2) NOT NULL, \n",
      "\t\"Quantity\" INTEGER NOT NULL, \n",
      "\tPRIMARY KEY (\"InvoiceLineId\"), \n",
      "\tFOREIGN KEY(\"TrackId\") REFERENCES \"Track\" (\"TrackId\"), \n",
      "\tFOREIGN KEY(\"InvoiceId\") REFERENCES \"Invoice\" (\"InvoiceId\")\n",
      ")\n",
      "\n",
      "/*\n",
      "3 rows from InvoiceLine table:\n",
      "InvoiceLineId\tInvoiceId\tTrackId\tUnitPrice\tQuantity\n",
      "1\t1\t2\t0.99\t1\n",
      "2\t1\t4\t0.99\t1\n",
      "3\t2\t6\t0.99\t1\n",
      "*/\n",
      "\n",
      "\n",
      "CREATE TABLE \"Track\" (\n",
      "\t\"TrackId\" INTEGER NOT NULL, \n",
      "\t\"Name\" NVARCHAR(200) NOT NULL, \n",
      "\t\"AlbumId\" INTEGER, \n",
      "\t\"MediaTypeId\" INTEGER NOT NULL, \n",
      "\t\"GenreId\" INTEGER, \n",
      "\t\"Composer\" NVARCHAR(220), \n",
      "\t\"Milliseconds\" INTEGER NOT NULL, \n",
      "\t\"Bytes\" INTEGER, \n",
      "\t\"UnitPrice\" NUMERIC(10, 2) NOT NULL, \n",
      "\tPRIMARY KEY (\"TrackId\"), \n",
      "\tFOREIGN KEY(\"MediaTypeId\") REFERENCES \"MediaType\" (\"MediaTypeId\"), \n",
      "\tFOREIGN KEY(\"GenreId\") REFERENCES \"Genre\" (\"GenreId\"), \n",
      "\tFOREIGN KEY(\"AlbumId\") REFERENCES \"Album\" (\"AlbumId\")\n",
      ")\n",
      "\n",
      "/*\n",
      "3 rows from Track table:\n",
      "TrackId\tName\tAlbumId\tMediaTypeId\tGenreId\tComposer\tMilliseconds\tBytes\tUnitPrice\n",
      "1\tFor Those About To Rock (We Salute You)\t1\t1\t1\tAngus Young, Malcolm Young, Brian Johnson\t343719\t11170334\t0.99\n",
      "2\tBalls to the Wall\t2\t2\t1\tU. Dirkschneider, W. Hoffmann, H. Frank, P. Baltes, S. Kaufmann, G. Hoffmann\t342562\t5510424\t0.99\n",
      "3\tFast As a Shark\t3\t2\t1\tF. Baltes, S. Kaufman, U. Dirkscneider & W. Hoffman\t230619\t3990994\t0.99\n",
      "*/\u001b[0m\u001b[32;1m\u001b[1;3m\n",
      "Invoking: `sql_db_query_checker` with `{'query': 'SELECT c.CustomerId, g.Name AS GenreName, COUNT(il.InvoiceLineId) AS PurchaseCount, SUM(il.UnitPrice * il.Quantity) AS TotalSales \\nFROM Customer c\\nJOIN Invoice i ON c.CustomerId = i.CustomerId\\nJOIN InvoiceLine il ON i.InvoiceId = il.InvoiceId\\nJOIN Track t ON il.TrackId = t.TrackId\\nJOIN Genre g ON t.GenreId = g.GenreId\\nGROUP BY c.CustomerId, g.GenreId\\nHAVING PurchaseCount = (\\n    SELECT MAX(PurchaseCount) \\n    FROM (\\n        SELECT COUNT(il2.InvoiceLineId) AS PurchaseCount\\n        FROM Invoice i2\\n        JOIN InvoiceLine il2 ON i2.InvoiceId = il2.InvoiceId\\n        JOIN Track t2 ON il2.TrackId = t2.TrackId\\n        WHERE i2.CustomerId = c.CustomerId\\n        GROUP BY t2.GenreId\\n    )\\n)\\nORDER BY TotalSales DESC\\nLIMIT 50;'}`\n",
      "\n",
      "\n",
      "\u001b[0m\u001b[36;1m\u001b[1;3m```sql\n",
      "SELECT c.CustomerId, g.Name AS GenreName, COUNT(il.InvoiceLineId) AS PurchaseCount, SUM(il.UnitPrice * il.Quantity) AS TotalSales \n",
      "FROM Customer c\n",
      "JOIN Invoice i ON c.CustomerId = i.CustomerId\n",
      "JOIN InvoiceLine il ON i.InvoiceId = il.InvoiceId\n",
      "JOIN Track t ON il.TrackId = t.TrackId\n",
      "JOIN Genre g ON t.GenreId = g.GenreId\n",
      "GROUP BY c.CustomerId, g.GenreId\n",
      "HAVING PurchaseCount = (\n",
      "    SELECT MAX(PurchaseCount) \n",
      "    FROM (\n",
      "        SELECT COUNT(il2.InvoiceLineId) AS PurchaseCount\n",
      "        FROM Invoice i2\n",
      "        JOIN InvoiceLine il2 ON i2.InvoiceId = il2.InvoiceId\n",
      "        JOIN Track t2 ON il2.TrackId = t2.TrackId\n",
      "        WHERE i2.CustomerId = c.CustomerId\n",
      "        GROUP BY t2.GenreId\n",
      "    )\n",
      ")\n",
      "ORDER BY TotalSales DESC\n",
      "LIMIT 50;\n",
      "```\u001b[0m\u001b[32;1m\u001b[1;3m\n",
      "Invoking: `sql_db_query` with `{'query': 'SELECT c.CustomerId, g.Name AS GenreName, COUNT(il.InvoiceLineId) AS PurchaseCount, SUM(il.UnitPrice * il.Quantity) AS TotalSales \\nFROM Customer c\\nJOIN Invoice i ON c.CustomerId = i.CustomerId\\nJOIN InvoiceLine il ON i.InvoiceId = il.InvoiceId\\nJOIN Track t ON il.TrackId = t.TrackId\\nJOIN Genre g ON t.GenreId = g.GenreId\\nGROUP BY c.CustomerId, g.GenreId\\nHAVING PurchaseCount = (\\n    SELECT MAX(PurchaseCount) \\n    FROM (\\n        SELECT COUNT(il2.InvoiceLineId) AS PurchaseCount\\n        FROM Invoice i2\\n        JOIN InvoiceLine il2 ON i2.InvoiceId = il2.InvoiceId\\n        JOIN Track t2 ON il2.TrackId = t2.TrackId\\n        WHERE i2.CustomerId = c.CustomerId\\n        GROUP BY t2.GenreId\\n    )\\n)\\nORDER BY TotalSales DESC\\nLIMIT 50;'}`\n",
      "\n",
      "\n",
      "\u001b[0m\u001b[36;1m\u001b[1;3m[(10, 'Rock', 29, 28.71), (29, 'Rock', 25, 24.75), (49, 'Rock', 22, 21.78), (50, 'Rock', 22, 21.78), (55, 'Rock', 22, 21.78), (8, 'Rock', 21, 20.79), (9, 'Rock', 21, 20.79), (38, 'Rock', 21, 20.79), (18, 'Rock', 19, 18.81), (30, 'Rock', 19, 18.81), (33, 'Rock', 19, 18.81), (36, 'Metal', 18, 17.82), (43, 'Rock', 18, 17.82), (44, 'Rock', 18, 17.82), (47, 'Rock', 18, 17.82), (48, 'Rock', 18, 17.82), (53, 'Rock', 18, 17.82), (2, 'Rock', 17, 16.83), (4, 'Rock', 17, 16.83), (28, 'Rock', 17, 16.83), (40, 'Rock', 17, 16.83), (11, 'Latin', 16, 15.84), (12, 'Rock', 16, 15.84), (12, 'Latin', 16, 15.84), (27, 'Rock', 16, 15.84), (35, 'Rock', 16, 15.84), (5, 'Rock', 15, 14.85), (7, 'Rock', 15, 14.85), (19, 'Rock', 15, 14.85), (34, 'Rock', 15, 14.85), (52, 'Latin', 15, 14.85), (1, 'Rock', 14, 13.86), (20, 'Latin', 14, 13.86), (25, 'Rock', 14, 13.86), (26, 'Rock', 14, 13.86), (32, 'Latin', 14, 13.86), (42, 'Metal', 14, 13.86), (14, 'Rock', 13, 12.87), (31, 'Latin', 13, 12.87), (39, 'Rock', 13, 12.87), (58, 'Rock', 13, 12.87), (15, 'Rock', 12, 11.879999999999999), (16, 'Metal', 12, 11.879999999999999), (22, 'Metal', 12, 11.879999999999999), (23, 'Latin', 12, 11.879999999999999), (24, 'Rock', 12, 11.879999999999999), (46, 'Rock', 12, 11.879999999999999), (51, 'Latin', 12, 11.879999999999999), (59, 'Rock', 12, 11.879999999999999), (13, 'Rock', 11, 10.89)]\u001b[0m\u001b[32;1m\u001b[1;3mHier sind die Kunden mit dem Genre, das sie am häufigsten gekauft haben, zusammen mit der Anzahl der Käufe und dem Gesamtumsatz, sortiert nach dem Gesamtumsatz in absteigender Reihenfolge:\n",
      "\n",
      "1. Kunde 10: Genre \"Rock\", 29 Käufe, Gesamtumsatz 28,71\n",
      "2. Kunde 29: Genre \"Rock\", 25 Käufe, Gesamtumsatz 24,75\n",
      "3. Kunde 49: Genre \"Rock\", 22 Käufe, Gesamtumsatz 21,78\n",
      "4. Kunde 50: Genre \"Rock\", 22 Käufe, Gesamtumsatz 21,78\n",
      "5. Kunde 55: Genre \"Rock\", 22 Käufe, Gesamtumsatz 21,78\n",
      "6. Kunde 8: Genre \"Rock\", 21 Käufe, Gesamtumsatz 20,79\n",
      "7. Kunde 9: Genre \"Rock\", 21 Käufe, Gesamtumsatz 20,79\n",
      "8. Kunde 38: Genre \"Rock\", 21 Käufe, Gesamtumsatz 20,79\n",
      "9. Kunde 18: Genre \"Rock\", 19 Käufe, Gesamtumsatz 18,81\n",
      "10. Kunde 30: Genre \"Rock\", 19 Käufe, Gesamtumsatz 18,81\n",
      "\n",
      "Diese Liste zeigt, dass \"Rock\" das am häufigsten gekaufte Genre ist, gefolgt von \"Latin\" und \"Metal\" in einigen Fällen.\u001b[0m\n",
      "\n",
      "\u001b[1m> Finished chain.\u001b[0m\n"
     ]
    },
    {
     "data": {
      "text/plain": [
       "{'input': 'Zeige für jeden Kunden das Genre, das er am häufigsten gekauft hat, zusammen mit der Anzahl und dem Gesamtumsatz dieses Genres, und sortiere das Ergebnis nach dem Gesamtumsatz in absteigender Reihenfolge.',\n",
       " 'output': 'Hier sind die Kunden mit dem Genre, das sie am häufigsten gekauft haben, zusammen mit der Anzahl der Käufe und dem Gesamtumsatz, sortiert nach dem Gesamtumsatz in absteigender Reihenfolge:\\n\\n1. Kunde 10: Genre \"Rock\", 29 Käufe, Gesamtumsatz 28,71\\n2. Kunde 29: Genre \"Rock\", 25 Käufe, Gesamtumsatz 24,75\\n3. Kunde 49: Genre \"Rock\", 22 Käufe, Gesamtumsatz 21,78\\n4. Kunde 50: Genre \"Rock\", 22 Käufe, Gesamtumsatz 21,78\\n5. Kunde 55: Genre \"Rock\", 22 Käufe, Gesamtumsatz 21,78\\n6. Kunde 8: Genre \"Rock\", 21 Käufe, Gesamtumsatz 20,79\\n7. Kunde 9: Genre \"Rock\", 21 Käufe, Gesamtumsatz 20,79\\n8. Kunde 38: Genre \"Rock\", 21 Käufe, Gesamtumsatz 20,79\\n9. Kunde 18: Genre \"Rock\", 19 Käufe, Gesamtumsatz 18,81\\n10. Kunde 30: Genre \"Rock\", 19 Käufe, Gesamtumsatz 18,81\\n\\nDiese Liste zeigt, dass \"Rock\" das am häufigsten gekaufte Genre ist, gefolgt von \"Latin\" und \"Metal\" in einigen Fällen.'}"
      ]
     },
     "execution_count": 56,
     "metadata": {},
     "output_type": "execute_result"
    }
   ],
   "source": [
    "OpenAI_agent.invoke(\n",
    "    {\"input\": \"Zeige für jeden Kunden das Genre, das er am häufigsten gekauft hat, zusammen mit der Anzahl und dem Gesamtumsatz dieses Genres, und sortiere das Ergebnis nach dem Gesamtumsatz in absteigender Reihenfolge.\"}\n",
    ")"
   ]
  }
 ],
 "metadata": {
  "kernelspec": {
   "display_name": "Python 3",
   "language": "python",
   "name": "python3"
  },
  "language_info": {
   "codemirror_mode": {
    "name": "ipython",
    "version": 3
   },
   "file_extension": ".py",
   "mimetype": "text/x-python",
   "name": "python",
   "nbconvert_exporter": "python",
   "pygments_lexer": "ipython3",
   "version": "3.11.9"
  }
 },
 "nbformat": 4,
 "nbformat_minor": 2
}
